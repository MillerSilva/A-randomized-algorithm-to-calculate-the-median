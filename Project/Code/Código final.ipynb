{
 "cells": [
  {
   "cell_type": "markdown",
   "metadata": {},
   "source": [
    "# Análisis y comparación de 'QuickSelect' sin y con aleatorización"
   ]
  },
  {
   "cell_type": "markdown",
   "metadata": {},
   "source": [
    "A continuación, vamos a hacer un análisis del comportamiento del algoritmo **_QUICKSELECT_** y **_RANDOM QUICKSELECT_**, ya que se quiere demostrar cual es el impacto de la aleatorización. Según la teoría, el **_QUICKSELECT_** tiene un comportamiento en un caso promedio de $O(n)$, pero para el peor caso sería en $O(n^{2})$. Por ello, este comportamiento se arreglaría utilizando la aleatorización creando así el **_RANDOM QUICKSELECT_**. Se creará una gráfica \"Tamaños de datos vs. Tiempo Total\" en donde se podrá observar mediante puntos la diferencia entre **_QUICKSELECT_** y **_RANDOM QUICKSELECT_**."
   ]
  },
  {
   "cell_type": "markdown",
   "metadata": {},
   "source": [
    "En esta función utiliza la data situada en el Global Environment para una simulación de los punteros de C. Es necesario, ya que evita la manipulación de muchos datos retornados (como solución alterna se usa listas), y hace que el código sea más limpio y claro."
   ]
  },
  {
   "cell_type": "code",
   "execution_count": 1,
   "metadata": {},
   "outputs": [],
   "source": [
    "ref <- function(..., envir=parent.frame(), inherits=TRUE){\n",
    "   \n",
    "  cl <- match.call(expand.dots = TRUE)\n",
    "  cl[c(1, match(c(\"envir\", \"inherits\"), names(cl), 0L))] <- NULL\n",
    "  \n",
    "  for (x in as.list(cl)) {\n",
    "    \n",
    "    s <- substitute(x)\n",
    "    sx <- do.call(substitute, list(s), envir=envir)\n",
    "    dx <- deparse(sx)\n",
    "    expr <- substitute(assign(dx, s, envir=parent.frame(), inherits=inherits))\n",
    "    do.call(on.exit, list(expr, add=TRUE), envir=envir)\n",
    "    \n",
    "  }\n",
    "\n",
    "  #Extraido de:\n",
    "  #https://stackoverflow.com/questions/2603184/can-you-pass-by-reference-in-r\n",
    "\n",
    "}"
   ]
  },
  {
   "cell_type": "markdown",
   "metadata": {},
   "source": [
    "Esta función intercambia los valores de las posiciones $i$ y $j$ de un vector de datos $A$. No es necesario indicar una actualización o asignación del vector $A$, ya que utiliza la función **_ref_**."
   ]
  },
  {
   "cell_type": "code",
   "execution_count": 2,
   "metadata": {},
   "outputs": [],
   "source": [
    "CAMBIO <- function(A,i,j){\n",
    "  \n",
    "  ref(A)      #El valor mostrado esta referenciado, es decir que\n",
    "              #si se modifica en la funcion se modifica el original\n",
    "  \n",
    "  a1 <- A[i]  #Se agrega el dato en una variable temporal\n",
    "  a2 <- A[j]  #para evitar problemas con el compilador\n",
    "  \n",
    "  A <- replace(A,c(i,j),c(a2,a1)) #Se cambia con la funcion replace\n",
    "}"
   ]
  },
  {
   "cell_type": "markdown",
   "metadata": {},
   "source": [
    "Esta función lo que hace es acomodar los valores del vector $A$ de la posición $p$ hasta la $r$, utilizando un pívot como mediador, es decir, los valores menores que el pívot irán a la izquierda del pívot, mientras que los mayores a la derecha."
   ]
  },
  {
   "cell_type": "code",
   "execution_count": 3,
   "metadata": {},
   "outputs": [],
   "source": [
    "PARTICION <- function(A,p,r){\n",
    "\n",
    "  ref(A)          #El valor mostrado esta referenciado\n",
    "  x <- A[r]       #x es el pivot que es ultimo dato de la porcion seleccionada en A\n",
    "  i <- p-1        #Es una posición anterior al primero, sirve para saber en que\n",
    "                  #posicion se encuentra el menor mas cercano al pivot\n",
    "  \n",
    "  for(j in p:(r-1)){    #Va desde el primero hasta el penultimo\n",
    "    \n",
    "    if(A[j] <= x){      #Si es menor al pivot\n",
    "      i <- i+1          #se aumenta en 1 y\n",
    "      CAMBIO(A,i,j)     #se hace el cambio entre los valores de las posiciones i y j\n",
    "    }\n",
    "                        #No se realiza nada si es mayor\n",
    "  }\n",
    "  \n",
    "  CAMBIO(A,i+1,r)       #Por ultimo se hace un intercambio entre el primer mayor\n",
    "                        #y el pivot, de esta manera quedaria un vector de la forma:\n",
    "                        #(menores que el pivot) + pivot + (mayores que el pivot)\n",
    "  \n",
    "  return(i+1)           #regresa la posición del pivot\n",
    "  \n",
    "}\n"
   ]
  },
  {
   "cell_type": "markdown",
   "metadata": {},
   "source": [
    "Es la misma función que **_PARTICION_**, solo que aleatorizados la posición del pívot, es decir, se selecciona cualquiera al azar y se intercambia con el último. Luego se llama a **_PARTICION_**."
   ]
  },
  {
   "cell_type": "code",
   "execution_count": 4,
   "metadata": {},
   "outputs": [],
   "source": [
    "RANDOM.PARTICION <- function(A,p,r){\n",
    "  \n",
    "  ref(A)            #El valor mostrado esta referenciado\n",
    "  \n",
    "  ##random##*\n",
    "  \n",
    "  tem <- sample(p:r,1,replace = F)    #tem es un aleatorio que\n",
    "  CAMBIO(A,r,tem)                     #se cambia con el último elemento del vector A\n",
    "  \n",
    "  ##########*\n",
    "  \n",
    "  PARTICION(A,p,r)          #se llama a PARTICION\n",
    "  \n",
    "}"
   ]
  },
  {
   "cell_type": "markdown",
   "metadata": {},
   "source": [
    "Esta función arregla toda la cadena $A$ utilizando la función **_PARTICION_** en todas las partes del vector.  "
   ]
  },
  {
   "cell_type": "code",
   "execution_count": 5,
   "metadata": {},
   "outputs": [],
   "source": [
    "QUICKSORT <- function(A,p=1,r=length(A)){       #los valores por defecto para facilitar el arreglo\n",
    "\n",
    "  \n",
    "  if(p < r){      #Si el tamaño del vector es lo suficientemente grande, es decir,\n",
    "                  #no es vacio, es ejecuta el código, sino no.\n",
    "    \n",
    "    q <- PARTICION(A,p,r)       #Se ejecuta PARTICION y se devuelve la posicion del\n",
    "                                #pivot (los cambios hechos en PARTICION afectaron a A,\n",
    "                                #por eso no es necesario hacer un retorno).\n",
    "    \n",
    "    A <- QUICKSORT(A,p,q-1)     #Se hace una recurrencia, esta vez se analiza la seccion\n",
    "                                #menores que el pivot.\n",
    "    A <- QUICKSORT(A,q+1,r)     #Una vez terminado la parte izquierda, se procede a la\n",
    "                                #derecha, es decir a los mayores.\n",
    "    \n",
    "  }\n",
    "  return(A)             #se coloca return para que se entienda que es lo que retorna\n",
    "                        \n",
    "}"
   ]
  },
  {
   "cell_type": "markdown",
   "metadata": {},
   "source": [
    "Esta función realiza la misma tarea que **_QUICKSORT_** solo que utiliza **_RANDOM.PARTCION_**"
   ]
  },
  {
   "cell_type": "code",
   "execution_count": 6,
   "metadata": {},
   "outputs": [],
   "source": [
    "RANDOM.QUICKSORT <- function(A,p=1,r=length(A)){    #los valores por defecto para facilitar el arreglo\n",
    "\n",
    "  if(p < r){\n",
    "    \n",
    "    q <- RANDOM.PARTICION(A,p,r)\n",
    "    A <- RANDOM.QUICKSORT(A,p,q-1)\n",
    "    A <- RANDOM.QUICKSORT(A,q+1,r)\n",
    "    \n",
    "  }\n",
    "  return(A)             #se coloca return para que se entienda que es lo que retorna\n",
    "                        #sin embargo no es necesario ya que 'A' esta por referencia\n",
    "}"
   ]
  },
  {
   "cell_type": "markdown",
   "metadata": {},
   "source": [
    "Esta función te devuelve el valor de la posición m del vector A ordenado desde $p$ hasta $r$. Se puede decir que encuentra el $m$-ésimo. No ordenado todo, solo lo necesario, ya que si la posición requerida es menor a la encontrada entonces se dirige a la izquierda o si es mayor a la derecha, no en ambos lados como el **_QUICKSORT_**. Al final, si coincide devuelve el valor.  "
   ]
  },
  {
   "cell_type": "code",
   "execution_count": 7,
   "metadata": {},
   "outputs": [],
   "source": [
    "QUICKSELECT <- function(A,p=1,r=length(A),m=(r+p)/2){\n",
    "\n",
    "  if(p == r){       #Si es de tamaño 1,\n",
    "    return(A[p])    #devuelve ese único valor.\n",
    "  }\n",
    "  \n",
    "  q <- PARTICION(A,p,r)     #Realiza PARTICION y q es pivot.\n",
    "  \n",
    "  if(m == q){       #Si q es igual a la posicion requerida m,\n",
    "    return(A[q])    #devuelve ese valor.\n",
    "  }\n",
    "  else{             #De lo contrario\n",
    "    \n",
    "    if(m<q){        #Si la posicion requerida m es menor al pivot q,\n",
    "      QUICKSELECT(A,p,q-1,m)  #se autoejecuta ahora solo para valores menores que\n",
    "                              #el pivot(izquierda)\n",
    "    }\n",
    "    else{                     #Sino\n",
    "      QUICKSELECT(A,q+1,r,m)  #se autoejecuta ahora solo para valores mayores que\n",
    "                              #el pivot(derecha)\n",
    "    }\n",
    "    \n",
    "  }\n",
    "}"
   ]
  },
  {
   "cell_type": "markdown",
   "metadata": {},
   "source": [
    "Es la misma función que el **_QUICKSELECT_**, solo que utiliza el **_RANDOM.PARTICION_** para aleatorizar."
   ]
  },
  {
   "cell_type": "code",
   "execution_count": 8,
   "metadata": {},
   "outputs": [],
   "source": [
    "RANDOM.QUICKSELECT <- function(A,p=1,r=length(A),m=(r+p)/2){\n",
    " \n",
    "  if(p == r){\n",
    "    return(A[p])\n",
    "  }\n",
    "  \n",
    "  q <- RANDOM.PARTICION(A,p,r)\n",
    "  \n",
    "  if(m == q){\n",
    "    return(A[q])\n",
    "  }\n",
    "  else{\n",
    "    \n",
    "    if(m<q){\n",
    "      RANDOM.QUICKSELECT(A,p,q-1,m)\n",
    "    }\n",
    "    else{\n",
    "      RANDOM.QUICKSELECT(A,q+1,r,m)\n",
    "    }\n",
    "    \n",
    "  }\n",
    "  \n",
    "}"
   ]
  },
  {
   "cell_type": "markdown",
   "metadata": {},
   "source": [
    "Esta función es una forma más segura de obtener la mediana, ya que funciona para vectores de tamaños impares y pares (especialmente los pares ya que se tiene que hacer un promedio)"
   ]
  },
  {
   "cell_type": "code",
   "execution_count": 9,
   "metadata": {},
   "outputs": [],
   "source": [
    "MEDIANA.QSELECT <- function(A){\n",
    "  \n",
    "  if(length(A) %% 2 == 1){    #Si es impar\n",
    "    med <- QUICKSELECT(A)     #se ejecuta QUICKSELECT\n",
    "  }\n",
    "  else{                       #sino\n",
    "    med <- (QUICKSELECT(A,m=(length(A)/2)) + QUICKSELECT(A,m=(length(A)/2)+1))/2\n",
    "                              #se hace un promedio de las dos posiciones centrales\n",
    "  }\n",
    "  return(med)     #Retorna el valor encontrado\n",
    "}"
   ]
  },
  {
   "cell_type": "markdown",
   "metadata": {},
   "source": [
    "Igual que el anterior, solo que utiliza **_RANDOM QUICKSELECT_**."
   ]
  },
  {
   "cell_type": "code",
   "execution_count": 10,
   "metadata": {},
   "outputs": [],
   "source": [
    "MEDIANA.RANDOM.QSELECT <- function(A){\n",
    "  \n",
    "  if(length(A) %% 2 == 1){\n",
    "    med <- RANDOM.QUICKSELECT(A)\n",
    "  }\n",
    "  else{\n",
    "    med <- (RANDOM.QUICKSELECT(A,m=(length(A)/2)) + RANDOM.QUICKSELECT(A,m=(length(A)/2)+1))/2\n",
    "  }\n",
    "  return(med)\n",
    "}"
   ]
  },
  {
   "cell_type": "markdown",
   "metadata": {},
   "source": [
    "Una vez definido las funciones iniciales se procede a la manipulación de los datos"
   ]
  },
  {
   "cell_type": "markdown",
   "metadata": {},
   "source": [
    "En esta parte se utilizará un array llamado $tam$ que indica los tamaños de los vectores a crear, puede ser modificado a voluntad (incluir y excluir datos)."
   ]
  },
  {
   "cell_type": "code",
   "execution_count": 11,
   "metadata": {},
   "outputs": [],
   "source": [
    "tam=c(500*1:30)"
   ]
  },
  {
   "cell_type": "code",
   "execution_count": 12,
   "metadata": {},
   "outputs": [
    {
     "name": "stdout",
     "output_type": "stream",
     "text": [
      " [1]   500  1000  1500  2000  2500  3000  3500  4000  4500  5000  5500  6000\n",
      "[13]  6500  7000  7500  8000  8500  9000  9500 10000 10500 11000 11500 12000\n",
      "[25] 12500 13000 13500 14000 14500 15000\n"
     ]
    }
   ],
   "source": [
    "print(tam)"
   ]
  },
  {
   "cell_type": "markdown",
   "metadata": {},
   "source": [
    "La $iteraciones$ sirven para realizar el mismo proceso la cantidad de veces y así hacer una comparación entre los datos."
   ]
  },
  {
   "cell_type": "code",
   "execution_count": 13,
   "metadata": {},
   "outputs": [],
   "source": [
    "iteraciones=5"
   ]
  },
  {
   "cell_type": "markdown",
   "metadata": {},
   "source": [
    "Se crean los vectores donde se encontrarán los tiempos de ejecución para cada algoritmo. Se usa median() como comparación adicional."
   ]
  },
  {
   "cell_type": "code",
   "execution_count": 14,
   "metadata": {},
   "outputs": [],
   "source": [
    "vector.qs <- vector()             #tiempos de QUICKSELECT\n",
    "vector.random.qs <- vector()      #tiempos de RANDOM-QUICKSELECT\n",
    "vector.median <- vector()         #tiempos de median() de R"
   ]
  },
  {
   "cell_type": "markdown",
   "metadata": {},
   "source": [
    "Se realiza operaciones necesarias para crear vectores y calcular los tiempos de ejecución."
   ]
  },
  {
   "cell_type": "code",
   "execution_count": 15,
   "metadata": {},
   "outputs": [],
   "source": [
    "for (j in 1:length(tam)){         #recorre desde el 1 hasta la cantidad de datos colocados en \"tam\"\n",
    "    \n",
    "    for (i in 1:iteraciones) {      #ejecuta \"iteraciones\" de veces\n",
    "\n",
    "      A <- sample(1:50000,tam[j],replace=T)   #Crea un vector aleatorio de 1 a 50000\n",
    "                                              #con tamaño tam[j] y se puede repetir\n",
    "\n",
    "      B<-A                          #Se copia a B\n",
    "      C<-A                          #Se copia a C\n",
    "\n",
    "      t <- proc.time()              #Se inicia el tiempo\n",
    "      med.QS <- MEDIANA.QSELECT(A)  #se ejecuta\n",
    "      t <- proc.time()-t            #se devuelve el tiempo\n",
    "      vector.qs <- rbind(vector.qs,t[3])  #Se agrega el valor t[3] en el vector\n",
    "                                          #t[3] es el tiempo total\n",
    "\n",
    "      t <- proc.time()\n",
    "      med.RQS <- MEDIANA.RANDOM.QSELECT(B)\n",
    "      t <- proc.time()-t\n",
    "      vector.random.qs <- rbind(vector.random.qs,t[3])\n",
    "\n",
    "      t <- proc.time()\n",
    "      med.m <- median(C)\n",
    "      t <- proc.time()-t\n",
    "      vector.median <- rbind(vector.median,t[3])\n",
    "\n",
    "    }\n",
    "}"
   ]
  },
  {
   "cell_type": "markdown",
   "metadata": {},
   "source": [
    "Una vez obtenido los vectores, se procede a arreglarlos dandole forma de matrix y colocando los nombres a las columnas para cada vector. También se crean vectores adicionales $y1$ ,$y2$ y $y3$ en donde estará el promedio de cada columna."
   ]
  },
  {
   "cell_type": "code",
   "execution_count": 16,
   "metadata": {},
   "outputs": [],
   "source": [
    "  vector.qs <- matrix(vector.qs,nrow=iteraciones,ncol=length(tam)) #devuelve una matrix\n",
    "  colnames(vector.qs) <- tam              #nombra las columnas\n",
    "  y1 <- colMeans(vector.qs)       #Se crea el vector que es el promedio de los valores\n",
    "                                  #de toda la columna\n",
    "  \n",
    "  vector.random.qs <- matrix(vector.random.qs,nrow=iteraciones,ncol=length(tam))\n",
    "  colnames(vector.random.qs) <- tam\n",
    "  y2 <- colMeans(vector.random.qs)\n",
    "  \n",
    "  vector.median <- matrix(vector.median,nrow=iteraciones,ncol=length(tam))\n",
    "  colnames(vector.median) <- tam\n",
    "  y3 <- colMeans(vector.median)"
   ]
  },
  {
   "cell_type": "code",
   "execution_count": 17,
   "metadata": {},
   "outputs": [
    {
     "name": "stdout",
     "output_type": "stream",
     "text": [
      "   500   1000   1500   2000   2500   3000   3500   4000   4500   5000   5500 \n",
      "0.0846 0.2020 0.2196 0.3232 0.4340 0.5286 0.4532 0.7282 0.8286 0.8370 0.9628 \n",
      "  6000   6500   7000   7500   8000   8500   9000   9500  10000  10500  11000 \n",
      "1.3124 1.4802 1.3438 1.2544 1.1848 1.6208 1.6786 1.6240 1.8296 1.5648 1.7466 \n",
      " 11500  12000  12500  13000  13500  14000  14500  15000 \n",
      "1.6982 1.6850 1.7254 1.8858 2.8688 2.3678 2.3402 1.9272 \n",
      "   500   1000   1500   2000   2500   3000   3500   4000   4500   5000   5500 \n",
      "0.0916 0.1458 0.2094 0.4114 0.3308 0.4338 0.4976 0.7966 0.7892 0.8242 0.9278 \n",
      "  6000   6500   7000   7500   8000   8500   9000   9500  10000  10500  11000 \n",
      "1.0072 1.1930 1.2496 1.1220 1.1862 1.3182 1.7104 1.9254 1.5162 1.6646 1.3954 \n",
      " 11500  12000  12500  13000  13500  14000  14500  15000 \n",
      "2.0434 1.7786 2.3696 2.1408 2.3478 2.6696 2.0712 2.0602 \n",
      "  500  1000  1500  2000  2500  3000  3500  4000  4500  5000  5500  6000  6500 \n",
      "2e-04 0e+00 2e-04 0e+00 6e-04 0e+00 0e+00 2e-04 2e-04 2e-04 8e-04 6e-04 2e-04 \n",
      " 7000  7500  8000  8500  9000  9500 10000 10500 11000 11500 12000 12500 13000 \n",
      "4e-04 2e-04 4e-04 2e-04 0e+00 0e+00 2e-04 4e-04 4e-04 2e-04 2e-04 4e-04 6e-04 \n",
      "13500 14000 14500 15000 \n",
      "2e-04 0e+00 6e-04 6e-04 \n"
     ]
    }
   ],
   "source": [
    "print(y1)\n",
    "print(y2)\n",
    "print(y3)"
   ]
  },
  {
   "cell_type": "markdown",
   "metadata": {},
   "source": [
    "Aquí se crea la gráfica con los tres vectores $y1$, $y2$ y $y3$(tiempos) y $tam$(tamaños)"
   ]
  },
  {
   "cell_type": "code",
   "execution_count": 18,
   "metadata": {},
   "outputs": [
    {
     "data": {
      "image/png": "[encoded data removed]",
      "text/plain": [
       "Plot with title “Grafico QS vs R-QS”"
      ]
     },
     "metadata": {},
     "output_type": "display_data"
    }
   ],
   "source": [
    "plot(tam,y1,pch=17,col=\"blue\",xlab=\"Tamaño de datos\",ylab=\"Tiempo total(s)\",main=\"Grafico QS vs R-QS\")\n",
    "points(tam,y2,pch=16,col=\"red\")\n",
    "points(tam,y3,pch=18,col=\"green\")\n",
    "legend(x=3, y=2, legend=c(\"QS\", \"RQS\",\"median de R\"), lty=c(17,16,18),col=c(\"blue\", \"red\",\"green\"))"
   ]
  },
  {
   "cell_type": "markdown",
   "metadata": {},
   "source": [
    "Como podemos ver los datos de **_QUICKSELECT_** tienden a estar más dispersos que los de **_RANDOM QUICKSELECT_**, hasta se puede ver una tendencia lineal más visible que **_QUICKSELECT_**. Por lo que se comprueba la duda de la complejidad $O(n)$ del algoritmo QUICKSELECT para caso promedio, es decir, aleatorizando para evitar el peor caso.\n",
    "Se comprueba que la función **_median()_** incorporado en R tiende a ser constante ya que no importa si es 500 o 15000 datos, el tiempo es igual, el cual es un dato interesante, ya que la función **_median()_** utiliza el algoritmo **_RADIX SORT_** es con complejidad $O(n)$, por lo tanto debería de haber al menos un cambio al modificar $n$. Este será otro tema para analizar más adelante.\n"
   ]
  }
 ],
 "metadata": {
  "kernelspec": {
   "display_name": "R",
   "language": "R",
   "name": "ir"
  },
  "language_info": {
   "codemirror_mode": "r",
   "file_extension": ".r",
   "mimetype": "text/x-r-source",
   "name": "R",
   "pygments_lexer": "r",
   "version": "3.4.4"
  }
 },
 "nbformat": 4,
 "nbformat_minor": 2
}
