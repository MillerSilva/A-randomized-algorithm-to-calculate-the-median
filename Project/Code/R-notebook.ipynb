{
 "cells": [
  {
   "cell_type": "code",
   "execution_count": 1,
   "metadata": {},
   "outputs": [
    {
     "name": "stdout",
     "output_type": "stream",
     "text": [
      "[1]  2 90  6  4  7  5\n",
      "[1]  2  4  5  6  7 90\n"
     ]
    }
   ],
   "source": [
    "cambio <- function(A,i,j){\n",
    "  \n",
    "  a1 <- A[i]  #Se agrega el dato en una variable temporal\n",
    "  a2 <- A[j]  #para evitar problemas con el compilador\n",
    "  \n",
    "  A <- replace(A,c(i,j),c(a2,a1)) #Se cambia con la funcion replace\n",
    "  \n",
    "}\n",
    "\n",
    "\n",
    "quick <- function(A,p,r){\n",
    "  \n",
    "  if(p < r){\n",
    "    \n",
    "    ####comienza partition######\n",
    "    \n",
    "    x <- A[r]\n",
    "    #print(x)\n",
    "    i <- p-1\n",
    "    \n",
    "    for(j in p:(r-1)){\n",
    "      #print(j)\n",
    "      if(A[j] <= x){\n",
    "        \n",
    "        i <- i+1\n",
    "        A <- cambio(A,i,j)\n",
    "        \n",
    "      }\n",
    "    }\n",
    "    \n",
    "    A <- cambio(A,i+1,r)\n",
    "    \n",
    "    ###termina partition######\n",
    "    \n",
    "    q <- i+1\n",
    "    #print(q)\n",
    "    #print(A)\n",
    "    A <- quick(A,p,q-1)\n",
    "    A <- quick(A,q+1,r)\n",
    "    \n",
    "  }\n",
    "  return(A)\n",
    "}\n",
    "\n",
    "\n",
    "####comienza el main#####\n",
    "#### ejemplo basico #####\n",
    "v <- c(2,90,6,4,7,5)\n",
    "print(v)\n",
    "\n",
    "#v <- cambio(v,1,2)\n",
    "#v <- partition(v,1,5)\n",
    "\n",
    "v <- quick(v,1,6)\n",
    "\n",
    "print(v)\n",
    "\n",
    "####termina el main#####"
   ]
  },
  {
   "cell_type": "code",
   "execution_count": 1,
   "metadata": {},
   "outputs": [
    {
     "data": {
      "text/plain": [
       "               _                           \n",
       "platform       x86_64-pc-linux-gnu         \n",
       "arch           x86_64                      \n",
       "os             linux-gnu                   \n",
       "system         x86_64, linux-gnu           \n",
       "status                                     \n",
       "major          3                           \n",
       "minor          5.1                         \n",
       "year           2018                        \n",
       "month          07                          \n",
       "day            02                          \n",
       "svn rev        74947                       \n",
       "language       R                           \n",
       "version.string R version 3.5.1 (2018-07-02)\n",
       "nickname       Feather Spray               "
      ]
     },
     "metadata": {},
     "output_type": "display_data"
    }
   ],
   "source": [
    "version"
   ]
  }
 ],
 "metadata": {
  "kernelspec": {
   "display_name": "R",
   "language": "R",
   "name": "ir"
  },
  "language_info": {
   "codemirror_mode": "r",
   "file_extension": ".r",
   "mimetype": "text/x-r-source",
   "name": "R",
   "pygments_lexer": "r",
   "version": "3.5.1"
  }
 },
 "nbformat": 4,
 "nbformat_minor": 2
}
